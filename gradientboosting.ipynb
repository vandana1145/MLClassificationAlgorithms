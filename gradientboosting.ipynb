{
 "metadata": {
  "language_info": {
   "codemirror_mode": {
    "name": "ipython",
    "version": 3
   },
   "file_extension": ".py",
   "mimetype": "text/x-python",
   "name": "python",
   "nbconvert_exporter": "python",
   "pygments_lexer": "ipython3",
   "version": "3.8.6"
  },
  "orig_nbformat": 2,
  "kernelspec": {
   "name": "python386jvsc74a57bd0916dbcbb3f70747c44a77c7bcd40155683ae19c65e1c03b4aa3499c5328201f1",
   "display_name": "Python 3.8.6 64-bit"
  },
  "metadata": {
   "interpreter": {
    "hash": "916dbcbb3f70747c44a77c7bcd40155683ae19c65e1c03b4aa3499c5328201f1"
   }
  }
 },
 "nbformat": 4,
 "nbformat_minor": 2,
 "cells": [
  {
   "cell_type": "code",
   "execution_count": 1,
   "metadata": {},
   "outputs": [],
   "source": [
    "# Gradient Boost\n",
    "\n",
    "# Importing the libraries\n",
    "import json # will be needed for saving preprocessing details\n",
    "import numpy as np # for data manipulation\n",
    "import pandas as pd # for data manipulation\n",
    "from sklearn.model_selection import train_test_split # will be used for data split\n",
    "from sklearn.impute import SimpleImputer\n",
    "from sklearn.preprocessing import LabelEncoder # for preprocessing\n",
    "from sklearn.preprocessing import MinMaxScaler\n",
    "from imblearn.over_sampling import SMOTE \n",
    "from collections import Counter\n",
    "from sklearn.preprocessing import StandardScaler\n",
    "from sklearn.model_selection import RepeatedStratifiedKFold\n",
    "from sklearn.metrics import classification_report, confusion_matrix\n",
    "from sklearn.ensemble import GradientBoostingClassifier\n",
    "from sklearn.model_selection import cross_val_score\n",
    "from numpy import mean\n",
    "from numpy import std\n",
    "from matplotlib import pyplot"
   ]
  },
  {
   "cell_type": "code",
   "execution_count": 2,
   "metadata": {},
   "outputs": [
    {
     "output_type": "stream",
     "name": "stdout",
     "text": [
      "Shape: (454, 7)\n   Floor_Num  Total_Floor_Area  Column_Area  Masonry_Wall_AreaNS  \\\n0        2.0              1797         6.21                 0.00   \n1        1.0               577         2.00                 0.00   \n2        3.0               498         1.50                 1.35   \n3        2.0               310         1.40                 1.02   \n4        3.0               287         0.74                 3.74   \n\n   Masonry_Wall_AreaEW  Captive_Columns Damage_Class  \n0                 9.49                1       Severe  \n1                 1.68                0        Light  \n2                 0.40                0        Light  \n3                 0.00                0        Light  \n4                 1.74                1       Severe  \n        Floor_Num  Total_Floor_Area  Column_Area  Masonry_Wall_AreaNS  \\\ncount  454.000000        454.000000   454.000000           454.000000   \nmean     3.061674        608.255507     1.956145             3.100198   \nstd      1.344413        587.274245     1.940987             2.951184   \nmin      1.000000         75.000000     0.000000             0.000000   \n25%      2.000000        242.250000     0.840000             1.342500   \n50%      3.000000        417.500000     1.400000             2.600000   \n75%      4.000000        711.500000     2.307500             4.297500   \nmax      7.500000       4703.000000    24.560000            27.530000   \n\n       Masonry_Wall_AreaEW  Captive_Columns  \ncount           454.000000       454.000000  \nmean              2.528194         0.464758  \nstd               3.379599         0.499307  \nmin               0.000000         0.000000  \n25%               0.500000         0.000000  \n50%               1.550000         0.000000  \n75%               3.197500         1.000000  \nmax              28.270000         1.000000  \n"
     ]
    }
   ],
   "source": [
    "# load dataset\n",
    "df = pd.read_csv('Data_without-72ROWS.csv')\n",
    "array = df.values\n",
    "print('Shape:', df.shape)\n",
    "# set input matrix and target column\n",
    "X = array[:, :-1]\n",
    "y = array[:, 6]\n",
    "# show first row of data\n",
    "print(df.head())\n",
    "print(df.describe())"
   ]
  },
  {
   "cell_type": "code",
   "execution_count": 3,
   "metadata": {},
   "outputs": [],
   "source": [
    "# data split train/test\n",
    "X_train, X_test, y_train, y_test = train_test_split(X,y, test_size = 0.25, random_state=1234)"
   ]
  },
  {
   "cell_type": "code",
   "execution_count": 4,
   "metadata": {},
   "outputs": [],
   "source": [
    "# taking care of the missing data\n",
    "imputer = SimpleImputer(missing_values = np.nan, strategy = 'mean', verbose = 0)\n",
    "imputer = imputer.fit(X[:, 1:6]) #upper bound is not included, but lower bound\n",
    "X[:, 1:6] = imputer.transform(X[:, 1:6])"
   ]
  },
  {
   "cell_type": "code",
   "execution_count": 5,
   "metadata": {},
   "outputs": [],
   "source": [
    "# encoding the dependent variable\n",
    "labelencoder_Y = LabelEncoder()\n",
    "y = labelencoder_Y.fit_transform(y)"
   ]
  },
  {
   "cell_type": "code",
   "execution_count": 6,
   "metadata": {},
   "outputs": [],
   "source": [
    "# rescale data (between 0 and 1)\n",
    "scaler = MinMaxScaler(feature_range=(0,1))\n",
    "X = scaler.fit_transform(X)"
   ]
  },
  {
   "cell_type": "code",
   "execution_count": 7,
   "metadata": {},
   "outputs": [
    {
     "output_type": "stream",
     "name": "stdout",
     "text": [
      "Class=Severe, Count=194, Percentage=42.731%\nClass=Light, Count=138, Percentage=30.396%\nClass=Moderate, Count=76, Percentage=16.740%\nClass=None, Count=46, Percentage=10.132%\n"
     ]
    }
   ],
   "source": [
    "# summarize the class distribution\n",
    "target = df.values[:, -1]\n",
    "counter = Counter(target)\n",
    "for k,v in counter.items():\n",
    "    per = v / len(target) * 100\n",
    "    print('Class=%s, Count=%s, Percentage=%.3f%%' % (k, v, per))"
   ]
  },
  {
   "cell_type": "code",
   "execution_count": 8,
   "metadata": {},
   "outputs": [
    {
     "output_type": "stream",
     "name": "stdout",
     "text": [
      "(454, 6) (454,) Counter({3: 194, 0: 138, 1: 76, 2: 46})\n"
     ]
    }
   ],
   "source": [
    "# Re-summarize class distribution\n",
    "print(X.shape, y.shape,Counter(y))"
   ]
  },
  {
   "cell_type": "code",
   "execution_count": 9,
   "metadata": {},
   "outputs": [
    {
     "output_type": "stream",
     "name": "stderr",
     "text": [
      "/home/vandana/.local/lib/python3.8/site-packages/imblearn/utils/_validation.py:587: FutureWarning: Pass sampling_strategy=minority as keyword args. From version 0.9 passing these as positional arguments will result in an error\n  warnings.warn(\n"
     ]
    }
   ],
   "source": [
    "# Implementing SMOTE for the Imbalanced data in Multi-class classification\n",
    "smote=SMOTE(\"minority\")\n",
    "X,y=smote.fit_resample(X,y)"
   ]
  },
  {
   "cell_type": "code",
   "execution_count": 10,
   "metadata": {},
   "outputs": [
    {
     "output_type": "stream",
     "name": "stdout",
     "text": [
      "(602, 6) (602,) Counter({3: 194, 2: 194, 0: 138, 1: 76})\n"
     ]
    }
   ],
   "source": [
    "print(X.shape, y.shape, Counter(y))"
   ]
  },
  {
   "cell_type": "code",
   "execution_count": 11,
   "metadata": {},
   "outputs": [
    {
     "output_type": "stream",
     "name": "stderr",
     "text": [
      "/home/vandana/.local/lib/python3.8/site-packages/imblearn/utils/_validation.py:587: FutureWarning: Pass sampling_strategy=minority as keyword args. From version 0.9 passing these as positional arguments will result in an error\n  warnings.warn(\n"
     ]
    }
   ],
   "source": [
    "# To balance another minority class\n",
    "smote=SMOTE(\"minority\")\n",
    "X,y=smote.fit_resample(X,y)"
   ]
  },
  {
   "cell_type": "code",
   "execution_count": 12,
   "metadata": {},
   "outputs": [
    {
     "output_type": "stream",
     "name": "stdout",
     "text": [
      "(720, 6) (720,) Counter({3: 194, 1: 194, 2: 194, 0: 138})\n"
     ]
    }
   ],
   "source": [
    "# Re-summarize class distribution\n",
    "print(X.shape, y.shape,Counter(y))"
   ]
  },
  {
   "cell_type": "code",
   "execution_count": 13,
   "metadata": {},
   "outputs": [
    {
     "output_type": "stream",
     "name": "stderr",
     "text": [
      "/home/vandana/.local/lib/python3.8/site-packages/imblearn/utils/_validation.py:587: FutureWarning: Pass sampling_strategy=minority as keyword args. From version 0.9 passing these as positional arguments will result in an error\n  warnings.warn(\n"
     ]
    }
   ],
   "source": [
    "# To balance another minority class\n",
    "smote=SMOTE(\"minority\")\n",
    "X,y=smote.fit_resample(X,y)"
   ]
  },
  {
   "cell_type": "code",
   "execution_count": 14,
   "metadata": {},
   "outputs": [
    {
     "output_type": "stream",
     "name": "stdout",
     "text": [
      "(776, 6) (776,) Counter({3: 194, 0: 194, 1: 194, 2: 194})\n"
     ]
    }
   ],
   "source": [
    "# Re-summarize class distribution\n",
    "print(X.shape, y.shape,Counter(y))"
   ]
  },
  {
   "cell_type": "code",
   "execution_count": 15,
   "metadata": {},
   "outputs": [],
   "source": [
    "# Feature Scaling - \n",
    "sc = StandardScaler()\n",
    "X_train = sc.fit_transform(X_train)\n",
    "X_test = sc.transform(X_test)"
   ]
  },
  {
   "cell_type": "code",
   "execution_count": 16,
   "metadata": {},
   "outputs": [
    {
     "output_type": "stream",
     "name": "stdout",
     "text": [
      "Learning rate:  0.05\n",
      "Accuracy score (training): 0.526\n",
      "Accuracy score (validation): 0.500\n",
      "Learning rate:  0.075\n",
      "Accuracy score (training): 0.550\n",
      "Accuracy score (validation): 0.491\n",
      "Learning rate:  0.1\n",
      "Accuracy score (training): 0.538\n",
      "Accuracy score (validation): 0.509\n",
      "Learning rate:  0.25\n",
      "Accuracy score (training): 0.626\n",
      "Accuracy score (validation): 0.447\n",
      "Learning rate:  0.5\n",
      "Accuracy score (training): 0.791\n",
      "Accuracy score (validation): 0.474\n",
      "Learning rate:  0.75\n",
      "Accuracy score (training): 0.853\n",
      "Accuracy score (validation): 0.491\n",
      "Learning rate:  1\n",
      "Accuracy score (training): 0.859\n",
      "Accuracy score (validation): 0.412\n"
     ]
    }
   ],
   "source": [
    "lr_list = [0.05, 0.075, 0.1, 0.25, 0.5, 0.75, 1]\n",
    "\n",
    "for learning_rate in lr_list:\n",
    "    gb_clf = GradientBoostingClassifier(n_estimators=20, learning_rate=learning_rate, max_features=2, max_depth=2, random_state=0)\n",
    "    gb_clf.fit(X_train, y_train)\n",
    "\n",
    "    print(\"Learning rate: \", learning_rate)\n",
    "    print(\"Accuracy score (training): {0:.3f}\".format(gb_clf.score(X_train, y_train)))\n",
    "    print(\"Accuracy score (validation): {0:.3f}\".format(gb_clf.score(X_test, y_test)))"
   ]
  },
  {
   "cell_type": "code",
   "execution_count": 17,
   "metadata": {},
   "outputs": [
    {
     "output_type": "stream",
     "name": "stdout",
     "text": [
      "Confusion Matrix:\n[[15  5  3 14]\n [ 6  3  2  6]\n [ 1  0  2  6]\n [14  0  3 34]]\nClassification Report\n              precision    recall  f1-score   support\n\n       Light       0.42      0.41      0.41        37\n    Moderate       0.38      0.18      0.24        17\n        None       0.20      0.22      0.21         9\n      Severe       0.57      0.67      0.61        51\n\n    accuracy                           0.47       114\n   macro avg       0.39      0.37      0.37       114\nweighted avg       0.46      0.47      0.46       114\n\n"
     ]
    }
   ],
   "source": [
    "gb_clf2 = GradientBoostingClassifier(n_estimators=20, learning_rate=0.5, max_features=2, max_depth=2, random_state=0)\n",
    "gb_clf2.fit(X_train, y_train)\n",
    "predictions = gb_clf2.predict(X_test)\n",
    "\n",
    "print(\"Confusion Matrix:\")\n",
    "print(confusion_matrix(y_test, predictions))\n",
    "\n",
    "print(\"Classification Report\")\n",
    "print(classification_report(y_test, predictions))"
   ]
  },
  {
   "cell_type": "code",
   "execution_count": null,
   "metadata": {},
   "outputs": [],
   "source": []
  }
 ]
}