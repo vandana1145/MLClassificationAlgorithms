{
 "metadata": {
  "language_info": {
   "codemirror_mode": {
    "name": "ipython",
    "version": 3
   },
   "file_extension": ".py",
   "mimetype": "text/x-python",
   "name": "python",
   "nbconvert_exporter": "python",
   "pygments_lexer": "ipython3",
   "version": "3.8.6"
  },
  "orig_nbformat": 2,
  "kernelspec": {
   "name": "python386jvsc74a57bd0916dbcbb3f70747c44a77c7bcd40155683ae19c65e1c03b4aa3499c5328201f1",
   "display_name": "Python 3.8.6 64-bit"
  },
  "metadata": {
   "interpreter": {
    "hash": "916dbcbb3f70747c44a77c7bcd40155683ae19c65e1c03b4aa3499c5328201f1"
   }
  }
 },
 "nbformat": 4,
 "nbformat_minor": 2,
 "cells": [
  {
   "cell_type": "code",
   "execution_count": 1,
   "metadata": {},
   "outputs": [],
   "source": [
    "# import the required libraries\n",
    "\n",
    "import numpy as np # for data manipulation\n",
    "from numpy import mean\n",
    "from numpy import std\n",
    "from numpy import nan\n",
    "from numpy import isnan\n",
    "import pandas as pd # for data manipulation\n",
    "from pandas import read_csv\n",
    "from sklearn.model_selection import train_test_split # will be used for data split\n",
    "from sklearn.impute import SimpleImputer\n",
    "from sklearn.preprocessing import LabelEncoder # for preprocessing\n",
    "from sklearn.preprocessing import OneHotEncoder\n",
    "from sklearn.preprocessing import MinMaxScaler\n",
    "from sklearn.preprocessing import StandardScaler\n",
    "from sklearn.model_selection import RepeatedStratifiedKFold\n",
    "from sklearn.model_selection import cross_val_score\n",
    "from imblearn.over_sampling import SMOTE \n",
    "from collections import Counter\n",
    "from matplotlib import pyplot\n",
    "# libraries for extracting important features out from the dataset\n",
    "from numpy import set_printoptions\n",
    "from sklearn.feature_selection import SelectKBest\n",
    "from sklearn.feature_selection import f_classif"
   ]
  },
  {
   "cell_type": "code",
   "execution_count": 2,
   "metadata": {},
   "outputs": [
    {
     "output_type": "stream",
     "name": "stdout",
     "text": [
      "Shape: (526, 9)\n"
     ]
    }
   ],
   "source": [
    "# load dataset\n",
    "df = pd.read_csv('Data.csv')\n",
    "#df = pd.read_csv('Data_without-TWOcolumns.csv')\n",
    "#df = pd.read_csv('Data_without-72ROWS.csv')\n",
    "print('Shape:', df.shape)# set input matrix and target column"
   ]
  },
  {
   "cell_type": "code",
   "execution_count": 3,
   "metadata": {},
   "outputs": [
    {
     "output_type": "stream",
     "name": "stdout",
     "text": [
      "Floor_Num               0\nTotal_Floor_Area        0\nColumn_Area             0\nConcrete_Wall_AreaNS    0\nConcrete_Wall_AreaEW    0\nMasonry_Wall_AreaNS     0\nMasonry_Wall_AreaEW     0\nCaptive_Columns         0\ndtype: int64\n"
     ]
    }
   ],
   "source": [
    "# count the number of missing values for each column\n",
    "num_missing = (df[['Floor_Num', 'Total_Floor_Area', 'Column_Area', 'Concrete_Wall_AreaNS', 'Concrete_Wall_AreaEW','Masonry_Wall_AreaNS', 'Masonry_Wall_AreaEW', 'Captive_Columns']] == nan).sum()\n",
    "# report the results\n",
    "print(num_missing)"
   ]
  },
  {
   "cell_type": "code",
   "execution_count": 4,
   "metadata": {},
   "outputs": [
    {
     "output_type": "stream",
     "name": "stdout",
     "text": [
      "Floor_Num               0\nTotal_Floor_Area        0\nColumn_Area             3\nConcrete_Wall_AreaNS    0\nConcrete_Wall_AreaEW    0\nMasonry_Wall_AreaNS     0\nMasonry_Wall_AreaEW     0\nCaptive_Columns         0\ndtype: int64\n"
     ]
    }
   ],
   "source": [
    "# count the number of nan values in each column\n",
    "print(df[['Floor_Num', 'Total_Floor_Area', 'Column_Area', 'Concrete_Wall_AreaNS', 'Concrete_Wall_AreaEW','Masonry_Wall_AreaNS', 'Masonry_Wall_AreaEW', 'Captive_Columns']].isnull().sum())"
   ]
  },
  {
   "cell_type": "code",
   "execution_count": 5,
   "metadata": {},
   "outputs": [],
   "source": [
    "# retrieve the numpy array\n",
    "values = df[['Floor_Num', 'Total_Floor_Area', 'Column_Area', 'Concrete_Wall_AreaNS', 'Concrete_Wall_AreaEW','Masonry_Wall_AreaNS', 'Masonry_Wall_AreaEW', 'Captive_Columns']].values"
   ]
  },
  {
   "cell_type": "code",
   "execution_count": 6,
   "metadata": {},
   "outputs": [],
   "source": [
    "# define imputer\n",
    "imputer = SimpleImputer(missing_values=nan, strategy='mean')"
   ]
  },
  {
   "cell_type": "code",
   "execution_count": 7,
   "metadata": {},
   "outputs": [],
   "source": [
    "# transform the dataset\n",
    "trans_values = imputer.fit_transform(values)"
   ]
  },
  {
   "cell_type": "code",
   "execution_count": 8,
   "metadata": {},
   "outputs": [
    {
     "output_type": "stream",
     "name": "stdout",
     "text": [
      "Shape of df: (526, 9)\nShape of X: (526, 8)\n"
     ]
    }
   ],
   "source": [
    "# split dataset into inputs and outputs\n",
    "#array = df.values\n",
    "#print('Shape:', df.shape)# set input matrix and target column\n",
    "X = trans_values[:,:]\n",
    "y = df.values[:, 8]\n",
    "print('Shape of df:', df.shape)\n",
    "print('Shape of X:', X.shape)"
   ]
  },
  {
   "cell_type": "code",
   "execution_count": 9,
   "metadata": {},
   "outputs": [],
   "source": [
    "# feature extraction\n",
    "test = SelectKBest(score_func=f_classif, k=6)\n",
    "fit = test.fit(X, y)"
   ]
  },
  {
   "cell_type": "code",
   "execution_count": 10,
   "metadata": {},
   "outputs": [
    {
     "output_type": "stream",
     "name": "stdout",
     "text": [
      "[9.428 1.699 3.108 0.253 0.602 0.207 2.57  2.771]\n[[2.000e+00 1.797e+03 6.210e+00 0.000e+00 9.490e+00 1.000e+00]\n [1.000e+00 5.770e+02 2.000e+00 0.000e+00 1.680e+00 0.000e+00]\n [3.000e+00 4.980e+02 1.500e+00 0.000e+00 4.000e-01 0.000e+00]\n [2.000e+00 3.100e+02 1.400e+00 0.000e+00 0.000e+00 0.000e+00]\n [3.000e+00 2.870e+02 7.400e-01 0.000e+00 1.740e+00 1.000e+00]]\n"
     ]
    }
   ],
   "source": [
    "# summarize scores\n",
    "set_printoptions(precision=3)\n",
    "print(fit.scores_)\n",
    "features = fit.transform(X)\n",
    "# summarize selected features\n",
    "print(features[0:5,:])"
   ]
  },
  {
   "cell_type": "code",
   "execution_count": null,
   "metadata": {},
   "outputs": [],
   "source": [
    "# define the scaler\n",
    "trans = MinMaxScaler()\n",
    "# transform the data\n",
    "X= trans.fit_transform(X)"
   ]
  },
  {
   "cell_type": "code",
   "execution_count": null,
   "metadata": {},
   "outputs": [],
   "source": [
    "# encoding the dependent variable\n",
    "labelencoder_Y = LabelEncoder()\n",
    "y = labelencoder_Y.fit_transform(y)"
   ]
  },
  {
   "cell_type": "code",
   "execution_count": null,
   "metadata": {},
   "outputs": [],
   "source": []
  }
 ]
}