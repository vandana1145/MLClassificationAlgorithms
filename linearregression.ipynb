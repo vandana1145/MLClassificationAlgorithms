{
 "metadata": {
  "orig_nbformat": 2,
  "kernelspec": {
   "name": "python3",
   "display_name": "Python 3",
   "language": "python"
  },
  "metadata": {
   "interpreter": {
    "hash": "1949c0c6eb6f836478006a9f6300681a60cd2c2e9487a6098efe3997da41e417"
   }
  }
 },
 "nbformat": 4,
 "nbformat_minor": 2,
 "cells": [
  {
   "cell_type": "code",
   "execution_count": null,
   "metadata": {},
   "outputs": [],
   "source": [
    "import pandas as pd\n",
    "from sklearn.linear_model import LinearRegression\n",
    "from sklearn.model_selection import train_test_split\n",
    "import numpy as np"
   ]
  },
  {
   "cell_type": "code",
   "execution_count": null,
   "metadata": {},
   "outputs": [],
   "source": [
    "class Model:\n",
    "    def __init__(self, datafile=\"Data.csv\"):\n",
    "        self.df = pd.read_csv(datafile)\n",
    "        self.linear_reg = LinearRegression()\n",
    "\n",
    "    def split(self, test_size):\n",
    "        X = self.df.iloc[:, :-1].values\n",
    "        y = self.df.iloc[:, 8].values\n",
    "        self.X_train, self.X_test, self.y_train, self.y_test = train_test_split(X, y, test_size = test_size)\n",
    "\n",
    "    def fit(self):\n",
    "        self.model = self.linear_reg.fit(self.X_train, self.y_train)\n",
    "\n",
    "    def predict(self):\n",
    "        result = self.linear_reg.predict(self.X_test)\n",
    "        return result\n",
    "\n",
    "        \n",
    "if __name__ == '__main__':\n",
    "    model_instance = Model()\n",
    "    model_instance.split(0.2)\n",
    "    model_instance.fit() \n",
    "    print(model_instance.predict()) \n",
    "    print(\"Accuracy: \", model_instance.model.score(model_instance.X_test, model_instance.y_test))"
   ]
  },
  {
   "cell_type": "code",
   "execution_count": null,
   "metadata": {},
   "outputs": [],
   "source": []
  }
 ]
}